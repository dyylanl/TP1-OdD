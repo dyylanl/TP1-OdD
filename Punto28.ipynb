{
 "cells": [
  {
   "cell_type": "code",
   "execution_count": 1,
   "metadata": {},
   "outputs": [],
   "source": [
    "##ANTIGUEDAD PROMEDIO PARA CADA USUARIO SEGUN SU ULTIMA ACTIDAD"
   ]
  },
  {
   "cell_type": "code",
   "execution_count": 2,
   "metadata": {},
   "outputs": [],
   "source": [
    "import pandas as pd\n",
    "import numpy as np"
   ]
  },
  {
   "cell_type": "code",
   "execution_count": 3,
   "metadata": {},
   "outputs": [],
   "source": [
    "contents = pd.read_csv('contents.csv')"
   ]
  },
  {
   "cell_type": "code",
   "execution_count": 5,
   "metadata": {},
   "outputs": [],
   "source": [
    "contents.revision_timestamp = pd.to_datetime(contents.revision_timestamp)\n",
    "contents.revision_timestamp = contents.revision_timestamp.astype(np.int64)\n",
    "contents.revision_timestamp = pd.to_datetime(contents.revision_timestamp)"
   ]
  },
  {
   "cell_type": "code",
   "execution_count": 9,
   "metadata": {},
   "outputs": [
    {
     "data": {
      "text/plain": [
       "title                         object\n",
       "id                             int64\n",
       "namespace                      int64\n",
       "revision_id                    int64\n",
       "parent_revision              float64\n",
       "revision_timestamp    datetime64[ns]\n",
       "revisor_username              object\n",
       "revisor_id                   float64\n",
       "revisor_ip                    object\n",
       "revisor_comment               object\n",
       "dtype: object"
      ]
     },
     "execution_count": 9,
     "metadata": {},
     "output_type": "execute_result"
    }
   ],
   "source": [
    "contents.dtypes"
   ]
  },
  {
   "cell_type": "code",
   "execution_count": 10,
   "metadata": {},
   "outputs": [
    {
     "data": {
      "text/plain": [
       "Timestamp('2016-07-24 03:00:43.882354944')"
      ]
     },
     "execution_count": 10,
     "metadata": {},
     "output_type": "execute_result"
    }
   ],
   "source": [
    "contents.revision_timestamp.mean()"
   ]
  },
  {
   "cell_type": "code",
   "execution_count": 26,
   "metadata": {},
   "outputs": [
    {
     "name": "stderr",
     "output_type": "stream",
     "text": [
      "<ipython-input-26-c81c07bd19cb>:1: FutureWarning: Treating datetime data as categorical rather than numeric in `.describe` is deprecated and will be removed in a future version of pandas. Specify `datetime_is_numeric=True` to silence this warning and adopt the future behavior now.\n",
      "  contents.revision_timestamp.describe()\n"
     ]
    },
    {
     "data": {
      "text/plain": [
       "count                 4132164\n",
       "unique                4006833\n",
       "top       2021-02-20 09:59:51\n",
       "freq                      166\n",
       "first     2002-10-23 09:34:16\n",
       "last      2021-09-01 15:17:32\n",
       "Name: revision_timestamp, dtype: object"
      ]
     },
     "execution_count": 26,
     "metadata": {},
     "output_type": "execute_result"
    }
   ],
   "source": [
    "contents.revision_timestamp.describe()"
   ]
  },
  {
   "cell_type": "code",
   "execution_count": 36,
   "metadata": {},
   "outputs": [
    {
     "ename": "AttributeError",
     "evalue": "'str' object has no attribute 'dt'",
     "output_type": "error",
     "traceback": [
      "\u001b[0;31m---------------------------------------------------------------------------\u001b[0m",
      "\u001b[0;31mAttributeError\u001b[0m                            Traceback (most recent call last)",
      "\u001b[0;32m<ipython-input-36-5065ac43d13b>\u001b[0m in \u001b[0;36m<module>\u001b[0;34m\u001b[0m\n\u001b[0;32m----> 1\u001b[0;31m \u001b[0mgrouped\u001b[0m\u001b[0;34m=\u001b[0m\u001b[0mcontents\u001b[0m\u001b[0;34m.\u001b[0m\u001b[0mgroupby\u001b[0m\u001b[0;34m(\u001b[0m\u001b[0mcontents\u001b[0m\u001b[0;34m.\u001b[0m\u001b[0mrevision_id\u001b[0m\u001b[0;34m)\u001b[0m\u001b[0;34m.\u001b[0m\u001b[0magg\u001b[0m\u001b[0;34m(\u001b[0m\u001b[0;34m{\u001b[0m\u001b[0;34m'revision_timestamp'\u001b[0m\u001b[0;34m.\u001b[0m\u001b[0mdt\u001b[0m\u001b[0;34m.\u001b[0m\u001b[0myear\u001b[0m\u001b[0;34m:\u001b[0m\u001b[0;34m[\u001b[0m\u001b[0;34m'mean'\u001b[0m\u001b[0;34m]\u001b[0m\u001b[0;34m}\u001b[0m\u001b[0;34m)\u001b[0m\u001b[0;34m\u001b[0m\u001b[0;34m\u001b[0m\u001b[0m\n\u001b[0m",
      "\u001b[0;31mAttributeError\u001b[0m: 'str' object has no attribute 'dt'"
     ]
    }
   ],
   "source": [
    "grouped=contents.groupby(contents.revision_id).agg({'revision_timestamp'.dt.year:['mean']})"
   ]
  },
  {
   "cell_type": "code",
   "execution_count": 32,
   "metadata": {},
   "outputs": [
    {
     "data": {
      "text/html": [
       "<div>\n",
       "<style scoped>\n",
       "    .dataframe tbody tr th:only-of-type {\n",
       "        vertical-align: middle;\n",
       "    }\n",
       "\n",
       "    .dataframe tbody tr th {\n",
       "        vertical-align: top;\n",
       "    }\n",
       "\n",
       "    .dataframe thead th {\n",
       "        text-align: right;\n",
       "    }\n",
       "</style>\n",
       "<table border=\"1\" class=\"dataframe\">\n",
       "  <thead>\n",
       "    <tr style=\"text-align: right;\">\n",
       "      <th></th>\n",
       "      <th>title</th>\n",
       "      <th>id</th>\n",
       "      <th>namespace</th>\n",
       "      <th>revision_id</th>\n",
       "      <th>parent_revision</th>\n",
       "      <th>revision_timestamp</th>\n",
       "      <th>revisor_username</th>\n",
       "      <th>revisor_id</th>\n",
       "      <th>revisor_ip</th>\n",
       "      <th>revisor_comment</th>\n",
       "    </tr>\n",
       "  </thead>\n",
       "  <tbody>\n",
       "    <tr>\n",
       "      <th>0</th>\n",
       "      <td>Wikipedia:Artículos solicitados</td>\n",
       "      <td>5</td>\n",
       "      <td>4</td>\n",
       "      <td>132533307</td>\n",
       "      <td>132516631.0</td>\n",
       "      <td>2021-01-19 18:40:34</td>\n",
       "      <td>Metrónomo</td>\n",
       "      <td>1708233.0</td>\n",
       "      <td>NaN</td>\n",
       "      <td>Así esta mejor</td>\n",
       "    </tr>\n",
       "    <tr>\n",
       "      <th>1</th>\n",
       "      <td>Andorra</td>\n",
       "      <td>7</td>\n",
       "      <td>0</td>\n",
       "      <td>138035057</td>\n",
       "      <td>138027475.0</td>\n",
       "      <td>2021-08-31 18:27:01</td>\n",
       "      <td>NaN</td>\n",
       "      <td>NaN</td>\n",
       "      <td>2800:CD0:FC1B:A900:C5A4:9E81:7175:2ED2</td>\n",
       "      <td>Añadir contenido</td>\n",
       "    </tr>\n",
       "    <tr>\n",
       "      <th>2</th>\n",
       "      <td>Argentina</td>\n",
       "      <td>10</td>\n",
       "      <td>0</td>\n",
       "      <td>137966826</td>\n",
       "      <td>137825165.0</td>\n",
       "      <td>2021-08-28 17:17:54</td>\n",
       "      <td>Traitrich</td>\n",
       "      <td>4642283.0</td>\n",
       "      <td>NaN</td>\n",
       "      <td>Reemplazos con [[Usuario:Benjavalero/Replacer|...</td>\n",
       "    </tr>\n",
       "    <tr>\n",
       "      <th>3</th>\n",
       "      <td>Geografía de Andorra</td>\n",
       "      <td>15</td>\n",
       "      <td>0</td>\n",
       "      <td>137986788</td>\n",
       "      <td>133666383.0</td>\n",
       "      <td>2021-08-29 17:16:00</td>\n",
       "      <td>Lojwe</td>\n",
       "      <td>5338508.0</td>\n",
       "      <td>NaN</td>\n",
       "      <td>Reemplazos con [[Usuario:Benjavalero/Replacer|...</td>\n",
       "    </tr>\n",
       "    <tr>\n",
       "      <th>4</th>\n",
       "      <td>Demografía de Andorra</td>\n",
       "      <td>17</td>\n",
       "      <td>0</td>\n",
       "      <td>130869554</td>\n",
       "      <td>129413188.0</td>\n",
       "      <td>2020-11-12 19:56:15</td>\n",
       "      <td>Jialxv</td>\n",
       "      <td>3615366.0</td>\n",
       "      <td>NaN</td>\n",
       "      <td>Correcciones ortográficas con [[Usuario:Benjav...</td>\n",
       "    </tr>\n",
       "    <tr>\n",
       "      <th>...</th>\n",
       "      <td>...</td>\n",
       "      <td>...</td>\n",
       "      <td>...</td>\n",
       "      <td>...</td>\n",
       "      <td>...</td>\n",
       "      <td>...</td>\n",
       "      <td>...</td>\n",
       "      <td>...</td>\n",
       "      <td>...</td>\n",
       "      <td>...</td>\n",
       "    </tr>\n",
       "    <tr>\n",
       "      <th>1379</th>\n",
       "      <td>Premio Nobel de Fisiología y Medicina</td>\n",
       "      <td>2184</td>\n",
       "      <td>0</td>\n",
       "      <td>50703352</td>\n",
       "      <td>11925666.0</td>\n",
       "      <td>2011-10-21 19:14:33</td>\n",
       "      <td>Invadibot</td>\n",
       "      <td>1906661.0</td>\n",
       "      <td>NaN</td>\n",
       "      <td>Robot: Arreglando doble redirección → [[Anexo:...</td>\n",
       "    </tr>\n",
       "    <tr>\n",
       "      <th>1397</th>\n",
       "      <td>Premio Nobel de Medicina</td>\n",
       "      <td>2211</td>\n",
       "      <td>0</td>\n",
       "      <td>50687957</td>\n",
       "      <td>50687943.0</td>\n",
       "      <td>2011-10-21 04:06:17</td>\n",
       "      <td>Vbenedetti</td>\n",
       "      <td>68286.0</td>\n",
       "      <td>NaN</td>\n",
       "      <td>Redirigiendo a «[[Anexo:Ganadores del Premio N...</td>\n",
       "    </tr>\n",
       "    <tr>\n",
       "      <th>1486</th>\n",
       "      <td>Premio Príncipe de Asturias</td>\n",
       "      <td>2315</td>\n",
       "      <td>0</td>\n",
       "      <td>77824688</td>\n",
       "      <td>75124130.0</td>\n",
       "      <td>2014-10-29 05:51:09</td>\n",
       "      <td>Invadibot</td>\n",
       "      <td>1906661.0</td>\n",
       "      <td>NaN</td>\n",
       "      <td>Bot: Arreglando doble redirección → [[Premios ...</td>\n",
       "    </tr>\n",
       "    <tr>\n",
       "      <th>1573</th>\n",
       "      <td>Rhamphocarya</td>\n",
       "      <td>2492</td>\n",
       "      <td>0</td>\n",
       "      <td>74427420</td>\n",
       "      <td>39239937.0</td>\n",
       "      <td>2014-05-15 21:39:04</td>\n",
       "      <td>Allanbot</td>\n",
       "      <td>2256780.0</td>\n",
       "      <td>NaN</td>\n",
       "      <td>[[m:mw:PWB|Bot]]: Arreglando doble redirección...</td>\n",
       "    </tr>\n",
       "    <tr>\n",
       "      <th>1689</th>\n",
       "      <td>Sumerios</td>\n",
       "      <td>2670</td>\n",
       "      <td>0</td>\n",
       "      <td>85897402</td>\n",
       "      <td>85897401.0</td>\n",
       "      <td>2015-10-17 23:34:28</td>\n",
       "      <td>Jarould</td>\n",
       "      <td>3114926.0</td>\n",
       "      <td>NaN</td>\n",
       "      <td>Revertidos los cambios de [[Special:Contributi...</td>\n",
       "    </tr>\n",
       "  </tbody>\n",
       "</table>\n",
       "<p>100 rows × 10 columns</p>\n",
       "</div>"
      ],
      "text/plain": [
       "                                      title    id  namespace  revision_id  \\\n",
       "0           Wikipedia:Artículos solicitados     5          4    132533307   \n",
       "1                                   Andorra     7          0    138035057   \n",
       "2                                 Argentina    10          0    137966826   \n",
       "3                      Geografía de Andorra    15          0    137986788   \n",
       "4                     Demografía de Andorra    17          0    130869554   \n",
       "...                                     ...   ...        ...          ...   \n",
       "1379  Premio Nobel de Fisiología y Medicina  2184          0     50703352   \n",
       "1397               Premio Nobel de Medicina  2211          0     50687957   \n",
       "1486            Premio Príncipe de Asturias  2315          0     77824688   \n",
       "1573                           Rhamphocarya  2492          0     74427420   \n",
       "1689                               Sumerios  2670          0     85897402   \n",
       "\n",
       "      parent_revision  revision_timestamp revisor_username  revisor_id  \\\n",
       "0         132516631.0 2021-01-19 18:40:34        Metrónomo   1708233.0   \n",
       "1         138027475.0 2021-08-31 18:27:01              NaN         NaN   \n",
       "2         137825165.0 2021-08-28 17:17:54        Traitrich   4642283.0   \n",
       "3         133666383.0 2021-08-29 17:16:00            Lojwe   5338508.0   \n",
       "4         129413188.0 2020-11-12 19:56:15           Jialxv   3615366.0   \n",
       "...               ...                 ...              ...         ...   \n",
       "1379       11925666.0 2011-10-21 19:14:33        Invadibot   1906661.0   \n",
       "1397       50687943.0 2011-10-21 04:06:17       Vbenedetti     68286.0   \n",
       "1486       75124130.0 2014-10-29 05:51:09        Invadibot   1906661.0   \n",
       "1573       39239937.0 2014-05-15 21:39:04         Allanbot   2256780.0   \n",
       "1689       85897401.0 2015-10-17 23:34:28          Jarould   3114926.0   \n",
       "\n",
       "                                  revisor_ip  \\\n",
       "0                                        NaN   \n",
       "1     2800:CD0:FC1B:A900:C5A4:9E81:7175:2ED2   \n",
       "2                                        NaN   \n",
       "3                                        NaN   \n",
       "4                                        NaN   \n",
       "...                                      ...   \n",
       "1379                                     NaN   \n",
       "1397                                     NaN   \n",
       "1486                                     NaN   \n",
       "1573                                     NaN   \n",
       "1689                                     NaN   \n",
       "\n",
       "                                        revisor_comment  \n",
       "0                                        Así esta mejor  \n",
       "1                                      Añadir contenido  \n",
       "2     Reemplazos con [[Usuario:Benjavalero/Replacer|...  \n",
       "3     Reemplazos con [[Usuario:Benjavalero/Replacer|...  \n",
       "4     Correcciones ortográficas con [[Usuario:Benjav...  \n",
       "...                                                 ...  \n",
       "1379  Robot: Arreglando doble redirección → [[Anexo:...  \n",
       "1397  Redirigiendo a «[[Anexo:Ganadores del Premio N...  \n",
       "1486  Bot: Arreglando doble redirección → [[Premios ...  \n",
       "1573  [[m:mw:PWB|Bot]]: Arreglando doble redirección...  \n",
       "1689  Revertidos los cambios de [[Special:Contributi...  \n",
       "\n",
       "[100 rows x 10 columns]"
      ]
     },
     "execution_count": 32,
     "metadata": {},
     "output_type": "execute_result"
    }
   ],
   "source": [
    "df.head()"
   ]
  },
  {
   "cell_type": "code",
   "execution_count": null,
   "metadata": {},
   "outputs": [],
   "source": []
  }
 ],
 "metadata": {
  "kernelspec": {
   "display_name": "Python 3",
   "language": "python",
   "name": "python3"
  },
  "language_info": {
   "codemirror_mode": {
    "name": "ipython",
    "version": 3
   },
   "file_extension": ".py",
   "mimetype": "text/x-python",
   "name": "python",
   "nbconvert_exporter": "python",
   "pygments_lexer": "ipython3",
   "version": "3.8.5"
  }
 },
 "nbformat": 4,
 "nbformat_minor": 4
}
